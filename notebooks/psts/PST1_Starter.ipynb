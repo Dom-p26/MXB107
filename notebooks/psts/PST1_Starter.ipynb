{
  "nbformat": 4,
  "nbformat_minor": 0,
  "metadata": {
    "colab": {
      "provenance": []
    },
    "kernelspec": {
      "name": "ir",
      "display_name": "R"
    },
    "language_info": {
      "name": "R"
    }
  },
  "cells": [
    {
      "cell_type": "markdown",
      "source": [
        "# **PST 1 Starter**\n",
        "\n",
        "```\n",
        ".------------------------------------.\n",
        "|   __  ____  ______  _  ___ _____   |\n",
        "|  |  \\/  \\ \\/ / __ )/ |/ _ \\___  |  |\n",
        "|  | |\\/| |\\  /|  _ \\| | | | | / /   |\n",
        "|  | |  | |/  \\| |_) | | |_| |/ /    |\n",
        "|  |_|  |_/_/\\_\\____/|_|\\___//_/     |\n",
        "'------------------------------------'\n",
        "\n",
        "```\n"
      ],
      "metadata": {
        "id": "ZtpJJ8BSHOaK"
      }
    },
    {
      "cell_type": "markdown",
      "source": [
        "This Notebook contains instructions for loading the dataset that you will analyse during Problem Solving Task 1. This will make easy to get working on the PST without having to worry about trying to configure things correctly."
      ],
      "metadata": {
        "id": "QWuoIciBrV25"
      }
    },
    {
      "cell_type": "markdown",
      "source": [
        "## **Pre-Configurating the Notebook**"
      ],
      "metadata": {
        "id": "SpK9XLxlHOcm"
      }
    },
    {
      "cell_type": "markdown",
      "source": [
        "### **Switching to the R Kernel on Colab**\n",
        "\n",
        "By default, Google Colab uses Python as its programming language. To use R instead, you’ll need to manually switch the kernel by going to **Runtime > Change runtime type**, and selecting R as the kernel. This allows you to run R code in the Colab environment.\n",
        "\n",
        "However, our notebook is already configured to use R by default. Unless something goes wrong, you shouldn’t need to manually change runtime type."
      ],
      "metadata": {
        "id": "4yA6tfrakIOY"
      }
    },
    {
      "cell_type": "markdown",
      "source": [
        "### **Importing Required Datasets and Packages**\n",
        "**Run the following lines of code**:"
      ],
      "metadata": {
        "id": "VLNikK3CYWIx"
      }
    },
    {
      "cell_type": "code",
      "source": [
        "#Do not modify\n",
        "\n",
        "setwd(\"/content\")\n",
        "\n",
        "# Remove `MXB107-Notebooks` if exists,\n",
        "if (dir.exists(\"MXB107-Notebooks\")) {\n",
        "  system(\"rm -rf MXB107-Notebooks\")\n",
        "}\n",
        "\n",
        "# Fork the repository\n",
        "system(\"git clone https://github.com/edelweiss611428/MXB107-Notebooks.git\")\n",
        "\n",
        "# Change working directory to \"MXB107-Notebooks\"\n",
        "setwd(\"MXB107-Notebooks\")\n",
        "\n",
        "#\n",
        "invisible(source(\"R/preConfigurated.R\"))"
      ],
      "metadata": {
        "id": "tYGemispahiY",
        "outputId": "b50c2cb1-1dbd-4910-d23d-c9519b9c31e9",
        "colab": {
          "base_uri": "https://localhost:8080/"
        }
      },
      "execution_count": 4,
      "outputs": [
        {
          "output_type": "stream",
          "name": "stderr",
          "text": [
            "Loading required package: ggplot2\n",
            "\n",
            "Loading required package: dplyr\n",
            "\n",
            "\n",
            "Attaching package: ‘dplyr’\n",
            "\n",
            "\n",
            "The following objects are masked from ‘package:stats’:\n",
            "\n",
            "    filter, lag\n",
            "\n",
            "\n",
            "The following objects are masked from ‘package:base’:\n",
            "\n",
            "    intersect, setdiff, setequal, union\n",
            "\n",
            "\n",
            "Loading required package: tidyr\n",
            "\n",
            "Loading required package: stringr\n",
            "\n",
            "Loading required package: magrittr\n",
            "\n",
            "\n",
            "Attaching package: ‘magrittr’\n",
            "\n",
            "\n",
            "The following object is masked from ‘package:tidyr’:\n",
            "\n",
            "    extract\n",
            "\n",
            "\n",
            "Loading required package: IRdisplay\n",
            "\n",
            "Loading required package: png\n",
            "\n",
            "Warning message in library(package, lib.loc = lib.loc, character.only = TRUE, logical.return = TRUE, :\n",
            "“there is no package called ‘png’”\n",
            "Installing package into ‘/usr/local/lib/R/site-library’\n",
            "(as ‘lib’ is unspecified)\n",
            "\n",
            "Loading required package: grid\n",
            "\n",
            "Loading required package: knitr\n",
            "\n"
          ]
        }
      ]
    },
    {
      "cell_type": "code",
      "source": [],
      "metadata": {
        "id": "BF6FngdsOMWc"
      },
      "execution_count": 5,
      "outputs": []
    },
    {
      "cell_type": "markdown",
      "source": [
        "**Do not modify the following**"
      ],
      "metadata": {
        "id": "o_XFVhdp1GrA"
      }
    },
    {
      "cell_type": "code",
      "source": [
        "if (!require(\"testthat\")) install.packages(\"testthat\"); library(\"testthat\")\n",
        "\n",
        "test_that(\"Test if all packages have been loaded\", {\n",
        "\n",
        "  expect_true(all(c(\"ggplot2\", \"tidyr\", \"dplyr\", \"stringr\", \"magrittr\", \"IRdisplay\", \"png\") %in% loadedNamespaces()))\n",
        "\n",
        "})\n",
        "\n",
        "test_that(\"Test if all utility functions have been loaded\", {\n",
        "  expect_true(exists(\"skewness\"))\n",
        "  expect_true(exists(\"kurtosis\"))\n",
        "  expect_true(exists(\"Mode\"))\n",
        "  expect_true(exists(\"FDbinning\"))\n",
        "  expect_true(exists(\"ModeBinMidpoint\"))\n",
        "  expect_true(exists(\"empiricalRuleGaussian\"))\n",
        "  expect_true(exists(\"chebyshevRule\"))\n",
        "  expect_true(exists(\"rangeBasedSD\"))\n",
        "  expect_true(exists(\"IQRBasedSD\"))\n",
        "  expect_true(exists(\"boxPlotDescribe\"))\n",
        "})"
      ],
      "metadata": {
        "id": "6lru0NFK011G",
        "outputId": "3c0848dc-0644-4461-e2e0-656b76281fd5",
        "colab": {
          "base_uri": "https://localhost:8080/"
        }
      },
      "execution_count": 6,
      "outputs": [
        {
          "output_type": "stream",
          "name": "stderr",
          "text": [
            "Loading required package: testthat\n",
            "\n",
            "\n",
            "Attaching package: ‘testthat’\n",
            "\n",
            "\n",
            "The following objects are masked from ‘package:magrittr’:\n",
            "\n",
            "    equals, is_less_than, not\n",
            "\n",
            "\n",
            "The following object is masked from ‘package:tidyr’:\n",
            "\n",
            "    matches\n",
            "\n",
            "\n",
            "The following object is masked from ‘package:dplyr’:\n",
            "\n",
            "    matches\n",
            "\n",
            "\n"
          ]
        },
        {
          "output_type": "stream",
          "name": "stdout",
          "text": [
            "\u001b[32mTest passed\u001b[39m 😸\n",
            "\u001b[32mTest passed\u001b[39m 🎉\n"
          ]
        }
      ]
    },
    {
      "cell_type": "markdown",
      "source": [
        "## **Dataset**\n",
        "\n",
        "You can load the Star Trek episode dataset that will be analysed in Problem Solving Task 1 with the following R code.\n"
      ],
      "metadata": {
        "id": "y7IIcNNxZpba"
      }
    },
    {
      "cell_type": "code",
      "source": [
        "episodes = read.csv(\"./datasets/episodes.csv\")\n",
        "\n",
        "head(episodes)"
      ],
      "metadata": {
        "id": "ykE7VRNSehFQ",
        "outputId": "f612b9f4-758a-47e0-fcfa-689eadbe8561",
        "colab": {
          "base_uri": "https://localhost:8080/",
          "height": 532
        }
      },
      "execution_count": 7,
      "outputs": [
        {
          "output_type": "display_data",
          "data": {
            "text/html": [
              "<table class=\"dataframe\">\n",
              "<caption>A data.frame: 6 × 57</caption>\n",
              "<thead>\n",
              "\t<tr><th></th><th scope=col>Series</th><th scope=col>Series.Name</th><th scope=col>Season</th><th scope=col>Episode</th><th scope=col>IMDB.Ranking</th><th scope=col>Title</th><th scope=col>Star.date</th><th scope=col>Air.date</th><th scope=col>Bechdel.Wallace.Test</th><th scope=col>Director</th><th scope=col>⋯</th><th scope=col>Consulting.Producer.1</th><th scope=col>Consulting.Producer.2</th><th scope=col>Female.Executive.Producer</th><th scope=col>Female.Co.Executive.Producer</th><th scope=col>Female.Producer</th><th scope=col>Female.Co.Producer</th><th scope=col>Female.Associate.Producer</th><th scope=col>Female.Supervising.Producer</th><th scope=col>Female.Co.Supervising.Producer</th><th scope=col>Female.Line.Producer</th></tr>\n",
              "\t<tr><th></th><th scope=col>&lt;chr&gt;</th><th scope=col>&lt;chr&gt;</th><th scope=col>&lt;int&gt;</th><th scope=col>&lt;int&gt;</th><th scope=col>&lt;dbl&gt;</th><th scope=col>&lt;chr&gt;</th><th scope=col>&lt;chr&gt;</th><th scope=col>&lt;chr&gt;</th><th scope=col>&lt;lgl&gt;</th><th scope=col>&lt;chr&gt;</th><th scope=col>⋯</th><th scope=col>&lt;chr&gt;</th><th scope=col>&lt;chr&gt;</th><th scope=col>&lt;lgl&gt;</th><th scope=col>&lt;lgl&gt;</th><th scope=col>&lt;lgl&gt;</th><th scope=col>&lt;lgl&gt;</th><th scope=col>&lt;lgl&gt;</th><th scope=col>&lt;lgl&gt;</th><th scope=col>&lt;lgl&gt;</th><th scope=col>&lt;lgl&gt;</th></tr>\n",
              "</thead>\n",
              "<tbody>\n",
              "\t<tr><th scope=row>1</th><td>TOS</td><td>The Original Series</td><td>1</td><td>1</td><td>7.3</td><td>The Man Trap                </td><td>1513.1</td><td>8/9/66  </td><td>FALSE</td><td>Marc Daniels   </td><td>⋯</td><td>NA</td><td>NA</td><td>FALSE</td><td>FALSE</td><td>FALSE</td><td>FALSE</td><td>FALSE</td><td>FALSE</td><td>FALSE</td><td>FALSE</td></tr>\n",
              "\t<tr><th scope=row>2</th><td>TOS</td><td>The Original Series</td><td>1</td><td>2</td><td>7.2</td><td>Charlie X                   </td><td>1533.6</td><td>15/9/66 </td><td>FALSE</td><td>Lawrence Dobkin</td><td>⋯</td><td>NA</td><td>NA</td><td>FALSE</td><td>FALSE</td><td>FALSE</td><td>FALSE</td><td>FALSE</td><td>FALSE</td><td>FALSE</td><td>FALSE</td></tr>\n",
              "\t<tr><th scope=row>3</th><td>TOS</td><td>The Original Series</td><td>1</td><td>3</td><td>7.8</td><td>Where No Man Has Gone Before</td><td>1312.4</td><td>22/9/66 </td><td>FALSE</td><td>James Goldstone</td><td>⋯</td><td>NA</td><td>NA</td><td>FALSE</td><td>FALSE</td><td>FALSE</td><td>FALSE</td><td>FALSE</td><td>FALSE</td><td>FALSE</td><td>FALSE</td></tr>\n",
              "\t<tr><th scope=row>4</th><td>TOS</td><td>The Original Series</td><td>1</td><td>4</td><td>8.0</td><td>The Naked Time              </td><td>1704.2</td><td>29/9/66 </td><td>FALSE</td><td>Marc Daniels   </td><td>⋯</td><td>NA</td><td>NA</td><td>FALSE</td><td>FALSE</td><td>FALSE</td><td>FALSE</td><td>FALSE</td><td>FALSE</td><td>FALSE</td><td>FALSE</td></tr>\n",
              "\t<tr><th scope=row>5</th><td>TOS</td><td>The Original Series</td><td>1</td><td>5</td><td>7.8</td><td>The Enemy Within            </td><td>1672.1</td><td>6/10/66 </td><td>FALSE</td><td>Leo Penn       </td><td>⋯</td><td>NA</td><td>NA</td><td>FALSE</td><td>FALSE</td><td>FALSE</td><td>FALSE</td><td>FALSE</td><td>FALSE</td><td>FALSE</td><td>FALSE</td></tr>\n",
              "\t<tr><th scope=row>6</th><td>TOS</td><td>The Original Series</td><td>1</td><td>6</td><td>6.9</td><td>Mudd's Women                </td><td>1329.8</td><td>13/10/66</td><td>FALSE</td><td>Harey Hart     </td><td>⋯</td><td>NA</td><td>NA</td><td>FALSE</td><td>FALSE</td><td>FALSE</td><td>FALSE</td><td>FALSE</td><td>FALSE</td><td>FALSE</td><td>FALSE</td></tr>\n",
              "</tbody>\n",
              "</table>\n"
            ],
            "text/markdown": "\nA data.frame: 6 × 57\n\n| <!--/--> | Series &lt;chr&gt; | Series.Name &lt;chr&gt; | Season &lt;int&gt; | Episode &lt;int&gt; | IMDB.Ranking &lt;dbl&gt; | Title &lt;chr&gt; | Star.date &lt;chr&gt; | Air.date &lt;chr&gt; | Bechdel.Wallace.Test &lt;lgl&gt; | Director &lt;chr&gt; | ⋯ ⋯ | Consulting.Producer.1 &lt;chr&gt; | Consulting.Producer.2 &lt;chr&gt; | Female.Executive.Producer &lt;lgl&gt; | Female.Co.Executive.Producer &lt;lgl&gt; | Female.Producer &lt;lgl&gt; | Female.Co.Producer &lt;lgl&gt; | Female.Associate.Producer &lt;lgl&gt; | Female.Supervising.Producer &lt;lgl&gt; | Female.Co.Supervising.Producer &lt;lgl&gt; | Female.Line.Producer &lt;lgl&gt; |\n|---|---|---|---|---|---|---|---|---|---|---|---|---|---|---|---|---|---|---|---|---|---|\n| 1 | TOS | The Original Series | 1 | 1 | 7.3 | The Man Trap                 | 1513.1 | 8/9/66   | FALSE | Marc Daniels    | ⋯ | NA | NA | FALSE | FALSE | FALSE | FALSE | FALSE | FALSE | FALSE | FALSE |\n| 2 | TOS | The Original Series | 1 | 2 | 7.2 | Charlie X                    | 1533.6 | 15/9/66  | FALSE | Lawrence Dobkin | ⋯ | NA | NA | FALSE | FALSE | FALSE | FALSE | FALSE | FALSE | FALSE | FALSE |\n| 3 | TOS | The Original Series | 1 | 3 | 7.8 | Where No Man Has Gone Before | 1312.4 | 22/9/66  | FALSE | James Goldstone | ⋯ | NA | NA | FALSE | FALSE | FALSE | FALSE | FALSE | FALSE | FALSE | FALSE |\n| 4 | TOS | The Original Series | 1 | 4 | 8.0 | The Naked Time               | 1704.2 | 29/9/66  | FALSE | Marc Daniels    | ⋯ | NA | NA | FALSE | FALSE | FALSE | FALSE | FALSE | FALSE | FALSE | FALSE |\n| 5 | TOS | The Original Series | 1 | 5 | 7.8 | The Enemy Within             | 1672.1 | 6/10/66  | FALSE | Leo Penn        | ⋯ | NA | NA | FALSE | FALSE | FALSE | FALSE | FALSE | FALSE | FALSE | FALSE |\n| 6 | TOS | The Original Series | 1 | 6 | 6.9 | Mudd's Women                 | 1329.8 | 13/10/66 | FALSE | Harey Hart      | ⋯ | NA | NA | FALSE | FALSE | FALSE | FALSE | FALSE | FALSE | FALSE | FALSE |\n\n",
            "text/latex": "A data.frame: 6 × 57\n\\begin{tabular}{r|lllllllllllllllllllll}\n  & Series & Series.Name & Season & Episode & IMDB.Ranking & Title & Star.date & Air.date & Bechdel.Wallace.Test & Director & ⋯ & Consulting.Producer.1 & Consulting.Producer.2 & Female.Executive.Producer & Female.Co.Executive.Producer & Female.Producer & Female.Co.Producer & Female.Associate.Producer & Female.Supervising.Producer & Female.Co.Supervising.Producer & Female.Line.Producer\\\\\n  & <chr> & <chr> & <int> & <int> & <dbl> & <chr> & <chr> & <chr> & <lgl> & <chr> & ⋯ & <chr> & <chr> & <lgl> & <lgl> & <lgl> & <lgl> & <lgl> & <lgl> & <lgl> & <lgl>\\\\\n\\hline\n\t1 & TOS & The Original Series & 1 & 1 & 7.3 & The Man Trap                 & 1513.1 & 8/9/66   & FALSE & Marc Daniels    & ⋯ & NA & NA & FALSE & FALSE & FALSE & FALSE & FALSE & FALSE & FALSE & FALSE\\\\\n\t2 & TOS & The Original Series & 1 & 2 & 7.2 & Charlie X                    & 1533.6 & 15/9/66  & FALSE & Lawrence Dobkin & ⋯ & NA & NA & FALSE & FALSE & FALSE & FALSE & FALSE & FALSE & FALSE & FALSE\\\\\n\t3 & TOS & The Original Series & 1 & 3 & 7.8 & Where No Man Has Gone Before & 1312.4 & 22/9/66  & FALSE & James Goldstone & ⋯ & NA & NA & FALSE & FALSE & FALSE & FALSE & FALSE & FALSE & FALSE & FALSE\\\\\n\t4 & TOS & The Original Series & 1 & 4 & 8.0 & The Naked Time               & 1704.2 & 29/9/66  & FALSE & Marc Daniels    & ⋯ & NA & NA & FALSE & FALSE & FALSE & FALSE & FALSE & FALSE & FALSE & FALSE\\\\\n\t5 & TOS & The Original Series & 1 & 5 & 7.8 & The Enemy Within             & 1672.1 & 6/10/66  & FALSE & Leo Penn        & ⋯ & NA & NA & FALSE & FALSE & FALSE & FALSE & FALSE & FALSE & FALSE & FALSE\\\\\n\t6 & TOS & The Original Series & 1 & 6 & 6.9 & Mudd's Women                 & 1329.8 & 13/10/66 & FALSE & Harey Hart      & ⋯ & NA & NA & FALSE & FALSE & FALSE & FALSE & FALSE & FALSE & FALSE & FALSE\\\\\n\\end{tabular}\n",
            "text/plain": [
              "  Series Series.Name         Season Episode IMDB.Ranking\n",
              "1 TOS    The Original Series 1      1       7.3         \n",
              "2 TOS    The Original Series 1      2       7.2         \n",
              "3 TOS    The Original Series 1      3       7.8         \n",
              "4 TOS    The Original Series 1      4       8.0         \n",
              "5 TOS    The Original Series 1      5       7.8         \n",
              "6 TOS    The Original Series 1      6       6.9         \n",
              "  Title                        Star.date Air.date Bechdel.Wallace.Test\n",
              "1 The Man Trap                 1513.1    8/9/66   FALSE               \n",
              "2 Charlie X                    1533.6    15/9/66  FALSE               \n",
              "3 Where No Man Has Gone Before 1312.4    22/9/66  FALSE               \n",
              "4 The Naked Time               1704.2    29/9/66  FALSE               \n",
              "5 The Enemy Within             1672.1    6/10/66  FALSE               \n",
              "6 Mudd's Women                 1329.8    13/10/66 FALSE               \n",
              "  Director        ⋯ Consulting.Producer.1 Consulting.Producer.2\n",
              "1 Marc Daniels    ⋯ NA                    NA                   \n",
              "2 Lawrence Dobkin ⋯ NA                    NA                   \n",
              "3 James Goldstone ⋯ NA                    NA                   \n",
              "4 Marc Daniels    ⋯ NA                    NA                   \n",
              "5 Leo Penn        ⋯ NA                    NA                   \n",
              "6 Harey Hart      ⋯ NA                    NA                   \n",
              "  Female.Executive.Producer Female.Co.Executive.Producer Female.Producer\n",
              "1 FALSE                     FALSE                        FALSE          \n",
              "2 FALSE                     FALSE                        FALSE          \n",
              "3 FALSE                     FALSE                        FALSE          \n",
              "4 FALSE                     FALSE                        FALSE          \n",
              "5 FALSE                     FALSE                        FALSE          \n",
              "6 FALSE                     FALSE                        FALSE          \n",
              "  Female.Co.Producer Female.Associate.Producer Female.Supervising.Producer\n",
              "1 FALSE              FALSE                     FALSE                      \n",
              "2 FALSE              FALSE                     FALSE                      \n",
              "3 FALSE              FALSE                     FALSE                      \n",
              "4 FALSE              FALSE                     FALSE                      \n",
              "5 FALSE              FALSE                     FALSE                      \n",
              "6 FALSE              FALSE                     FALSE                      \n",
              "  Female.Co.Supervising.Producer Female.Line.Producer\n",
              "1 FALSE                          FALSE               \n",
              "2 FALSE                          FALSE               \n",
              "3 FALSE                          FALSE               \n",
              "4 FALSE                          FALSE               \n",
              "5 FALSE                          FALSE               \n",
              "6 FALSE                          FALSE               "
            ]
          },
          "metadata": {}
        }
      ]
    },
    {
      "cell_type": "code",
      "source": [],
      "metadata": {
        "id": "a6TtCnL9aCJC"
      },
      "execution_count": 8,
      "outputs": []
    },
    {
      "cell_type": "markdown",
      "source": [
        "You are now ready to get started working on the Problem Solving Task!\n",
        "\n",
        "Here is some more information about the dataset:\n",
        "\n",
        "**Data on Star Trek Series from 1966 through 2005**\n",
        "\n",
        "**Description**\n",
        "\n",
        "A data set containing data on 704 episodes of Star Trek aired between 1966 and 2005 including The Original Series, Star Trek: The Next Generation, Star Trek: Deep Space Nine, Star Trek: Voyager, and Enterprise (later titled Star Trek: Enterprise).\n",
        "\n",
        "\n",
        "**Format**\n",
        "\n",
        "A data frame with 704 rows and 55 variables:\n",
        "\n",
        "Series\n",
        "\n",
        "    Abbreviated series name: TOS,TNG,DS9,VOY,ENT\n",
        "\n",
        "Series.Name\n",
        "\n",
        "    The complete series name\n",
        "\n",
        "Season\n",
        "\n",
        "    Season number\n",
        "\n",
        "Episode\n",
        "\n",
        "    Episode number (within season)\n",
        "\n",
        "IMDB.Ranking\n",
        "\n",
        "    The IMDB User rating for the episode, on a scale of 1-10\n",
        "\n",
        "Title\n",
        "\n",
        "    Episode title\n",
        "\n",
        "Star.date\n",
        "\n",
        "    The epsiode's star date\n",
        "\n",
        "Air.date\n",
        "\n",
        "    The epsiode's original air date\n",
        "\n",
        "Bechdel.Wallace.Test\n",
        "\n",
        "    Indicator of whether or not an episode passed the Bechdel-Wallace Test\n",
        "\n",
        "Director\n",
        "\n",
        "    The name of the episode's director\n",
        "\n",
        "Writer.1\n",
        "\n",
        "    The name of the episode's first credited writer\n",
        "\n",
        "Writer.2\n",
        "\n",
        "    The name of the episode's second credited writer\n",
        "\n",
        "Writer.3\n",
        "\n",
        "    The name of the episode's third credited writer\n",
        "\n",
        "Writer.4\n",
        "\n",
        "    The name of the episode's fourth credited writer\n",
        "\n",
        "Writer.5\n",
        "\n",
        "    The name of the episode's fifth credited writer\n",
        "\n",
        "Writer.6\n",
        "\n",
        "    The name of the episode's sixth credited writer\n",
        "\n",
        "Female.Director\n",
        "\n",
        "    Indicator T/F if the episodes director is identified as female\n",
        "\n",
        "Female.Writer.1\n",
        "\n",
        "    Indicator T/F if the episodes first credited writer is identified as female\n",
        "\n",
        "Female.Writer.1\n",
        "\n",
        "    Indicator T/F if the episodes secomnd credited writer is identified as female\n",
        "\n",
        "Female.Writer.1\n",
        "\n",
        "    Indicator T/F if the episodes third credited writer is identified as female\n",
        "\n",
        "Female.Writer.1\n",
        "\n",
        "    Indicator T/F if the episodes fourth credited writer is identified as female\n",
        "\n",
        "Female.Writer.1\n",
        "\n",
        "    Indicator T/F if the episodes fifth credited writer is identified as female\n",
        "\n",
        "Female.Writer.1\n",
        "\n",
        "    Indicator T/F if the episodes sixth credited writer is identified as female\n",
        "\n",
        "Executive.Producer.1\n",
        "\n",
        "    The name of the first credited executive producer\n",
        "\n",
        "Executive.Producer.2\n",
        "\n",
        "    The name of the second credited executive producer\n",
        "\n",
        "Executive.Producer.3\n",
        "\n",
        "    The name of the third credited executive producer\n",
        "\n",
        "Co.Executive.Producer.1\n",
        "\n",
        "    The name of the first credited co-executive producer\n",
        "\n",
        "Co.Executive.Producer.2\n",
        "\n",
        "    The name of the second credited co-executive producer\n",
        "\n",
        "Co.Executive.Producer.3\n",
        "\n",
        "    The name of the third credited co-executive producer\n",
        "\n",
        "Producer.1\n",
        "\n",
        "    The name of the first credited producer\n",
        "\n",
        "Producer.2\n",
        "\n",
        "    The name of the second credited producer\n",
        "\n",
        "Producer.3\n",
        "\n",
        "    The name of the third credited producer\n",
        "\n",
        "Producer.4\n",
        "\n",
        "    The name of the fourth credited producer\n",
        "\n",
        "Co.Producer.1\n",
        "\n",
        "    The name of the first credited co-producer\n",
        "\n",
        "Co.Producer.2\n",
        "\n",
        "    The name of the second credited co-producer\n",
        "\n",
        "Co.Producer.3\n",
        "\n",
        "    The name of the third credited co-producer\n",
        "\n",
        "Co.Producer.4\n",
        "\n",
        "    The name of the fourth credited co-producer\n",
        "\n",
        "Co.Producer.5\n",
        "\n",
        "    The name of the fifth credited co-producer\n",
        "\n",
        "Associate.Producer.1\n",
        "\n",
        "    The name of the first credited associate producer\n",
        "\n",
        "Associate.Producer.2\n",
        "\n",
        "    The name of the second credited associate producer\n",
        "\n",
        "Supervising.Producer.1\n",
        "\n",
        "    The name of the first credited supervising producer\n",
        "\n",
        "Supervising.Producer.2\n",
        "\n",
        "    The name of the second credited supervising producer\n",
        "\n",
        "Supervising.Producer.3\n",
        "\n",
        "    The name of the third credited supervising producer\n",
        "\n",
        "Co.Supervising.Producer.1\n",
        "\n",
        "    The name of the first credited co-supervising producer\n",
        "\n",
        "Co.Supervising.Producer.2\n",
        "\n",
        "    The name of the second credited co-supervising producer\n",
        "\n",
        "Coordinating.Producer\n",
        "\n",
        "    The name of the coordinating producer\n",
        "\n",
        "Consulting.Producer.1\n",
        "\n",
        "    The name of the first credited consulting producer\n",
        "\n",
        "Consulting.Producer.2\n",
        "\n",
        "    The name of the second credited consulting producer\n",
        "\n",
        "Female.Executive.Producer\n",
        "\n",
        "    Indicator T/F if any of the episode's executive producers are identifed as female\n",
        "\n",
        "Female.Co.Executive.Producer\n",
        "\n",
        "    Indicator T/F if any of the episode's co-executive producers are identified as female\n",
        "\n",
        "Female.Producer\n",
        "\n",
        "    Indicator T/F if any of the episode's producers are identified as female\n",
        "\n",
        "Female.Co.Producers\n",
        "\n",
        "    Indicator T/F if any of the episode's co-producers are identified as female\n",
        "\n",
        "Female.Associate.Producer\n",
        "\n",
        "    Indicator T/F if any of the episode's associate producers are identified as female\n",
        "\n",
        "Female.Supervising.Producer\n",
        "\n",
        "    Indicator T/F if any of the episode's supervising producers are identified as female\n",
        "\n",
        "Female.Co.Supervising.Producer\n",
        "\n",
        "    Indicator T/F if any of the episode's co-supervising producers are identified as female\n",
        "\n",
        "Female.Line.Producer\n",
        "\n",
        "    Indicator T/F if any of the episode's line producers are identified as female\n",
        "\n",
        "Source\n",
        "\n",
        "https://www.themarysue.com/star-trek-bechdel-test/"
      ],
      "metadata": {
        "id": "Fsn6WW1ejcPu"
      }
    },
    {
      "cell_type": "code",
      "source": [
        "hist(episodes$IMDB.Ranking, main = \"Histogram of IMDB ratings\", xlab = \"Ratings\", ylab = \"No. of episodes\", breaks = 50)"
      ],
      "metadata": {
        "id": "V7moUsF-aGu8",
        "outputId": "ead231be-8dd9-4820-ee27-836d14444457",
        "colab": {
          "base_uri": "https://localhost:8080/",
          "height": 437
        }
      },
      "execution_count": 9,
      "outputs": [
        {
          "output_type": "display_data",
          "data": {
            "text/plain": [
              "Plot with title “Histogram of IMDB ratings”"
            ],
            "image/png": "[encoded data removed]"
          },
          "metadata": {
            "image/png": {
              "width": 420,
              "height": 420
            }
          }
        }
      ]
    },
    {
      "cell_type": "code",
      "source": [
        "mean(episodes$IMDB.Ranking)"
      ],
      "metadata": {
        "id": "ck5DJWHOOOsr",
        "outputId": "401e893d-00e5-46ce-e801-c20e2f34959f",
        "colab": {
          "base_uri": "https://localhost:8080/",
          "height": 34
        }
      },
      "execution_count": 10,
      "outputs": [
        {
          "output_type": "display_data",
          "data": {
            "text/html": [
              "7.55071022727273"
            ],
            "text/markdown": "7.55071022727273",
            "text/latex": "7.55071022727273",
            "text/plain": [
              "[1] 7.55071"
            ]
          },
          "metadata": {}
        }
      ]
    },
    {
      "cell_type": "code",
      "source": [
        "barplot(table(episodes$Series),\n",
        "main = \"No. of Eps per Series\",\n",
        "xlab = \"Series\",\n",
        "ylab = \"No. of Episodes\")"
      ],
      "metadata": {
        "id": "ec304J0CPPEu",
        "colab": {
          "base_uri": "https://localhost:8080/",
          "height": 437
        },
        "outputId": "aa57ef17-e3cc-4bb0-ac28-1deeff276f2a"
      },
      "execution_count": 11,
      "outputs": [
        {
          "output_type": "display_data",
          "data": {
            "text/plain": [
              "Plot with title “No. of Eps per Series”"
            ],
            "image/png": "[encoded data removed]"
          },
          "metadata": {
            "image/png": {
              "width": 420,
              "height": 420
            }
          }
        }
      ]
    },
    {
      "cell_type": "code",
      "source": [
        "#calculated with R's inbuilt sd function\n",
        "actual_sd <- sd(episodes$IMDB.Ranking)\n",
        "\n",
        "\n",
        "#Estimated sd based on range is calculated with formula given in week 2 for a robust estimate of sd\n",
        "#It is calulated with the interquartile range which is also based off the range of data\n",
        "imdb_iqr <- IQR(episodes$IMDB.Ranking)\n",
        "\n",
        "\n",
        "# Apply the formula: Estimated SD = IQR / 1.349\n",
        "estimated_sd <- imdb_iqr / 1.349\n",
        "\n",
        "actual_sd\n",
        "estimated_sd"
      ],
      "metadata": {
        "colab": {
          "base_uri": "https://localhost:8080/",
          "height": 52
        },
        "id": "X_w6asVazBYe",
        "outputId": "0b053faa-2fe6-4641-a1ef-6b205be66100"
      },
      "execution_count": 14,
      "outputs": [
        {
          "output_type": "display_data",
          "data": {
            "text/html": [
              "0.776045749636099"
            ],
            "text/markdown": "0.776045749636099",
            "text/latex": "0.776045749636099",
            "text/plain": [
              "[1] 0.7760457"
            ]
          },
          "metadata": {}
        },
        {
          "output_type": "display_data",
          "data": {
            "text/html": [
              "0.815418828762046"
            ],
            "text/markdown": "0.815418828762046",
            "text/latex": "0.815418828762046",
            "text/plain": [
              "[1] 0.8154188"
            ]
          },
          "metadata": {}
        }
      ]
    },
    {
      "cell_type": "code",
      "source": [
        "episode_mean <- mean(episodes$IMDB.Ranking)\n",
        "episode_median <- median(episodes$IMDB.Ranking)\n",
        "\n",
        "episode_mean\n",
        "episode_median"
      ],
      "metadata": {
        "colab": {
          "base_uri": "https://localhost:8080/",
          "height": 52
        },
        "id": "3HhW_AIM0JXL",
        "outputId": "fea48bce-8eaf-48ce-ef79-cc9b53699fb5"
      },
      "execution_count": 15,
      "outputs": [
        {
          "output_type": "display_data",
          "data": {
            "text/html": [
              "7.55071022727273"
            ],
            "text/markdown": "7.55071022727273",
            "text/latex": "7.55071022727273",
            "text/plain": [
              "[1] 7.55071"
            ]
          },
          "metadata": {}
        },
        {
          "output_type": "display_data",
          "data": {
            "text/html": [
              "7.6"
            ],
            "text/markdown": "7.6",
            "text/latex": "7.6",
            "text/plain": [
              "[1] 7.6"
            ]
          },
          "metadata": {}
        }
      ]
    },
    {
      "cell_type": "code",
      "source": [
        "# find all tng episodes\n",
        "tng_episodes <- subset(episodes, Series == \"TNG\")\n",
        "\n",
        "# filter all episodes higher than 7 (this is done seperately from first subset so that proportion can be calculated)\n",
        "higher_than_7 <- subset(tng_episodes, IMDB.Ranking > 7.0)\n",
        "\n",
        "proportion <- nrow(higher_than_7) / nrow(tng_episodes)\n",
        "proportion"
      ],
      "metadata": {
        "id": "bVk_L8slBaPp",
        "outputId": "7b1201b5-ee8b-49a4-fa61-34f76f3050e0",
        "colab": {
          "base_uri": "https://localhost:8080/",
          "height": 34
        }
      },
      "execution_count": 33,
      "outputs": [
        {
          "output_type": "display_data",
          "data": {
            "text/html": [
              "0.646067415730337"
            ],
            "text/markdown": "0.646067415730337",
            "text/latex": "0.646067415730337",
            "text/plain": [
              "[1] 0.6460674"
            ]
          },
          "metadata": {}
        }
      ]
    },
    {
      "cell_type": "code",
      "source": [
        "# no. of episodes selected\n",
        "n <- 10\n",
        "\n",
        "#number of successes (2 or lower)\n",
        "k <- 2\n",
        "\n",
        "#probability of success (from Part 1, we use our assumed 0.87)\n",
        "p <- proportion\n",
        "\n",
        "# Use pbinom() to find the cumulative probability P(X <= 2)\n",
        "prob_2 <- pbinom(k, size = n, prob = p)\n",
        "\n",
        "# Print the final probability\n",
        "percent <- prob_2 * 100\n",
        "\n",
        "percent\n"
      ],
      "metadata": {
        "id": "mq33YNRuByZz",
        "outputId": "93aa6060-8deb-4430-8006-82857e3c28ae",
        "colab": {
          "base_uri": "https://localhost:8080/",
          "height": 34
        }
      },
      "execution_count": 35,
      "outputs": [
        {
          "output_type": "display_data",
          "data": {
            "text/html": [
              "0.521913878692954"
            ],
            "text/markdown": "0.521913878692954",
            "text/latex": "0.521913878692954",
            "text/plain": [
              "[1] 0.5219139"
            ]
          },
          "metadata": {}
        }
      ]
    }
  ]
}